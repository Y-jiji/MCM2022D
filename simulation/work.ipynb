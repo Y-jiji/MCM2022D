{
 "cells": [
  {
   "cell_type": "markdown",
   "metadata": {},
   "source": [
    "# SimPy Try out"
   ]
  },
  {
   "cell_type": "code",
   "execution_count": 1,
   "metadata": {},
   "outputs": [
    {
     "name": "stdout",
     "output_type": "stream",
     "text": [
      "Start parking at 0\n",
      "Start driving at 5\n",
      "Start parking at 7\n",
      "Start driving at 12\n",
      "Start parking at 14\n"
     ]
    }
   ],
   "source": [
    "import simpy\n",
    "\n",
    "# 定义一个汽车进程\n",
    "def car(env):\n",
    "    while True:\n",
    "        print('Start parking at %d' % env.now)\n",
    "        parking_duration = 5\n",
    "        yield env.timeout(parking_duration) # 进程延时 5s\n",
    "        print('Start driving at %d' % env.now)\n",
    "        trip_duration = 2\n",
    "        yield env.timeout(trip_duration)   # 延时 2s\n",
    "\n",
    "# 仿真启动\n",
    "env = simpy.Environment()   # 实例化环境\n",
    "env.process(car(env))   # 添加汽车进程\n",
    "env.run(until=15)   # 设定仿真结束条件, 这里是 15s 后停止"
   ]
  }
 ],
 "metadata": {
  "interpreter": {
   "hash": "f29e8b3fa2d991a6f8847b235850bc2cfc73e5042ba8efb84ff0f4dcd41902ea"
  },
  "kernelspec": {
   "display_name": "Python 3.9.6 64-bit",
   "language": "python",
   "name": "python3"
  },
  "language_info": {
   "codemirror_mode": {
    "name": "ipython",
    "version": 3
   },
   "file_extension": ".py",
   "mimetype": "text/x-python",
   "name": "python",
   "nbconvert_exporter": "python",
   "pygments_lexer": "ipython3",
   "version": "3.9.6"
  },
  "orig_nbformat": 4
 },
 "nbformat": 4,
 "nbformat_minor": 2
}
